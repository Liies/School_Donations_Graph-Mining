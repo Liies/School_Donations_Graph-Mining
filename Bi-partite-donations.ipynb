{
 "cells": [
  {
   "cell_type": "code",
   "execution_count": 9,
   "metadata": {},
   "outputs": [],
   "source": [
    "import pandas as pd\n",
    "import numpy as np\n",
    "from sklearn.utils import shuffle\n",
    "import itertools"
   ]
  },
  {
   "cell_type": "code",
   "execution_count": 10,
   "metadata": {},
   "outputs": [],
   "source": [
    "pathDBMS = \"/Users/lieshaouas/Library/Application Support/Neo4j Desktop/Application/relate-data/dbmss/dbms-542ff0e0-d83e-4c83-af3b-c0876324d6e2/import/\"\n",
    "fileName_donation = \"Donations\"\n",
    "fileName_donor = \"Donors\"\n",
    "fileName_project = \"Projects\""
   ]
  },
  {
   "cell_type": "code",
   "execution_count": 5,
   "metadata": {},
   "outputs": [],
   "source": [
    "df_donation = pd.read_csv(fileName_donation+'.csv');"
   ]
  },
  {
   "cell_type": "code",
   "execution_count": 6,
   "metadata": {},
   "outputs": [],
   "source": [
    "df_donor = pd.read_csv(fileName_donor+\".csv\");"
   ]
  },
  {
   "cell_type": "code",
   "execution_count": 7,
   "metadata": {},
   "outputs": [],
   "source": [
    "df_project = pd.read_csv(fileName_project+\".csv\");"
   ]
  },
  {
   "cell_type": "code",
   "execution_count": 7,
   "metadata": {},
   "outputs": [
    {
     "name": "stdout",
     "output_type": "stream",
     "text": [
      "df_donation (4687884, 7)\n",
      "df_donor (2122640, 5)\n",
      "df_project (1110017, 18)\n"
     ]
    }
   ],
   "source": [
    "print(\"df_donation\",df_donation.shape)\n",
    "print(\"df_donor\",df_donor.shape)\n",
    "print(\"df_project\",df_project.shape)"
   ]
  },
  {
   "cell_type": "code",
   "execution_count": 8,
   "metadata": {},
   "outputs": [],
   "source": [
    "list_df = [df_donation,df_donor,df_project]"
   ]
  },
  {
   "cell_type": "code",
   "execution_count": 106,
   "metadata": {},
   "outputs": [],
   "source": [
    "def cleanDf(df):\n",
    "    df.columns = [c.replace(\" \",\"_\") for c in df.columns]\n",
    "    for column in df.columns:\n",
    "        if df[column].isnull().sum() > 0:   \n",
    "            df.drop(df[df[column].isnull()].index, inplace=True)"
   ]
  },
  {
   "cell_type": "code",
   "execution_count": 10,
   "metadata": {},
   "outputs": [],
   "source": [
    "for df in list_df:\n",
    "    cleanDf(df)"
   ]
  },
  {
   "cell_type": "code",
   "execution_count": 118,
   "metadata": {},
   "outputs": [],
   "source": [
    "def deleteNotIn(df1,df2,columnid):\n",
    "    test = set(df1[columnid]) & set(df2[columnid])\n",
    "    indexNames1 = df1[df1[columnid].apply(lambda x: False if x in test else True)].index\n",
    "    indexNames2 = df2[df2[columnid].apply(lambda x: False if x in test else True)].index\n",
    "    df1.drop(indexNames1 , inplace=True)\n",
    "    df2.drop(indexNames2 , inplace=True)"
   ]
  },
  {
   "cell_type": "code",
   "execution_count": 119,
   "metadata": {},
   "outputs": [],
   "source": [
    "deleteNotIn(df_school,df_project,\"School_ID\")"
   ]
  },
  {
   "cell_type": "code",
   "execution_count": 122,
   "metadata": {},
   "outputs": [],
   "source": [
    "deleteNotIn(df_teacher,df_project,\"Teacher_ID\")"
   ]
  },
  {
   "cell_type": "code",
   "execution_count": 23,
   "metadata": {},
   "outputs": [],
   "source": [
    "df_project = df_project[['Project_ID', 'School_ID', 'Teacher_ID',\n",
    "       'Teacher_Project_Posted_Sequence', 'Project_Type', 'Project_Title',\n",
    "       'Project_Subject_Category_Tree', 'Project_Subject_Subcategory_Tree',\n",
    "       'Project_Grade_Level_Category', 'Project_Resource_Category',\n",
    "       'Project_Cost', 'Project_Posted_Date', 'Project_Expiration_Date',\n",
    "       'Project_Current_Status', 'Project_Fully_Funded_Date']]"
   ]
  },
  {
   "cell_type": "code",
   "execution_count": 43,
   "metadata": {},
   "outputs": [],
   "source": [
    "def makeNewColumnWithDate(df,columnDateName):\n",
    "    df[columnDateName] = df[columnDateName].str.replace('-','/')\n",
    "    df[\"year\"] = pd.to_datetime(df[columnDateName],format='%Y/%m/%d').dt.year\n",
    "    #Création d'une nouvelle colonne day_of_week, qui permet d'avoir le jour de la semaine lundi ou mardi etc...\n",
    "    df['day_of_week'] = pd.to_datetime(df[columnDateName],format='%Y/%m/%d %H:%M').dt.dayofweek\n",
    "    df[\"isWeekend\"] =  np.where(df[\"day_of_week\"] < 5, 1, 0)\n",
    "    df[\"isMorning\"] =  np.where((df[\"hour\"] <= 12), 1, 0)\n",
    "    df['day_of_week'] = pd.to_datetime(df[columnDateName],format='%Y/%m/%d %H:%M').dt.dayofweek\n",
    "    df[columnDateName] = df[columnDateName].str.replace('/','-')\n",
    "    df[columnDateName] = df[columnDateName]''.str[:10]"
   ]
  },
  {
   "cell_type": "code",
   "execution_count": 44,
   "metadata": {},
   "outputs": [],
   "source": [
    "makeNewColumnWithDate(df_donation,\"Donation_Received_Date\")"
   ]
  },
  {
   "cell_type": "code",
   "execution_count": 46,
   "metadata": {},
   "outputs": [
    {
     "data": {
      "text/html": [
       "<div>\n",
       "<style scoped>\n",
       "    .dataframe tbody tr th:only-of-type {\n",
       "        vertical-align: middle;\n",
       "    }\n",
       "\n",
       "    .dataframe tbody tr th {\n",
       "        vertical-align: top;\n",
       "    }\n",
       "\n",
       "    .dataframe thead th {\n",
       "        text-align: right;\n",
       "    }\n",
       "</style>\n",
       "<table border=\"1\" class=\"dataframe\">\n",
       "  <thead>\n",
       "    <tr style=\"text-align: right;\">\n",
       "      <th></th>\n",
       "      <th>Project_ID</th>\n",
       "      <th>Donation_ID</th>\n",
       "      <th>Donor_ID</th>\n",
       "      <th>Donation_Included_Optional_Donation</th>\n",
       "      <th>Donation_Amount</th>\n",
       "      <th>Donor_Cart_Sequence</th>\n",
       "      <th>Donation_Received_Date</th>\n",
       "      <th>year</th>\n",
       "      <th>month</th>\n",
       "      <th>day</th>\n",
       "      <th>hour</th>\n",
       "      <th>min</th>\n",
       "      <th>day_of_week</th>\n",
       "      <th>isWeekend</th>\n",
       "      <th>isMorning</th>\n",
       "    </tr>\n",
       "  </thead>\n",
       "  <tbody>\n",
       "    <tr>\n",
       "      <th>0</th>\n",
       "      <td>000009891526c0ade7180f8423792063</td>\n",
       "      <td>688729120858666221208529ee3fc18e</td>\n",
       "      <td>1f4b5b6e68445c6c4a0509b3aca93f38</td>\n",
       "      <td>No</td>\n",
       "      <td>178.37</td>\n",
       "      <td>11</td>\n",
       "      <td>2016-08-23</td>\n",
       "      <td>2016</td>\n",
       "      <td>8</td>\n",
       "      <td>23</td>\n",
       "      <td>0</td>\n",
       "      <td>0</td>\n",
       "      <td>1</td>\n",
       "      <td>1</td>\n",
       "      <td>1</td>\n",
       "    </tr>\n",
       "    <tr>\n",
       "      <th>1</th>\n",
       "      <td>000009891526c0ade7180f8423792063</td>\n",
       "      <td>dcf1071da3aa3561f91ac689d1f73dee</td>\n",
       "      <td>4aaab6d244bf3599682239ed5591af8a</td>\n",
       "      <td>Yes</td>\n",
       "      <td>25.00</td>\n",
       "      <td>2</td>\n",
       "      <td>2016-06-06</td>\n",
       "      <td>2016</td>\n",
       "      <td>6</td>\n",
       "      <td>6</td>\n",
       "      <td>0</td>\n",
       "      <td>0</td>\n",
       "      <td>0</td>\n",
       "      <td>1</td>\n",
       "      <td>1</td>\n",
       "    </tr>\n",
       "    <tr>\n",
       "      <th>2</th>\n",
       "      <td>000009891526c0ade7180f8423792063</td>\n",
       "      <td>18a234b9d1e538c431761d521ea7799d</td>\n",
       "      <td>0b0765dc9c759adc48a07688ba25e94e</td>\n",
       "      <td>Yes</td>\n",
       "      <td>20.00</td>\n",
       "      <td>3</td>\n",
       "      <td>2016-06-06</td>\n",
       "      <td>2016</td>\n",
       "      <td>6</td>\n",
       "      <td>6</td>\n",
       "      <td>0</td>\n",
       "      <td>0</td>\n",
       "      <td>0</td>\n",
       "      <td>1</td>\n",
       "      <td>1</td>\n",
       "    </tr>\n",
       "    <tr>\n",
       "      <th>3</th>\n",
       "      <td>000009891526c0ade7180f8423792063</td>\n",
       "      <td>38d2744bf9138b0b57ed581c76c0e2da</td>\n",
       "      <td>377944ad61f72d800b25ec1862aec363</td>\n",
       "      <td>Yes</td>\n",
       "      <td>25.00</td>\n",
       "      <td>1</td>\n",
       "      <td>2016-05-15</td>\n",
       "      <td>2016</td>\n",
       "      <td>5</td>\n",
       "      <td>15</td>\n",
       "      <td>0</td>\n",
       "      <td>0</td>\n",
       "      <td>6</td>\n",
       "      <td>0</td>\n",
       "      <td>1</td>\n",
       "    </tr>\n",
       "    <tr>\n",
       "      <th>4</th>\n",
       "      <td>000009891526c0ade7180f8423792063</td>\n",
       "      <td>5a032791e31167a70206bfb86fb60035</td>\n",
       "      <td>6d5b22d39e68c656071a842732c63a0c</td>\n",
       "      <td>Yes</td>\n",
       "      <td>25.00</td>\n",
       "      <td>2</td>\n",
       "      <td>2016-05-17</td>\n",
       "      <td>2016</td>\n",
       "      <td>5</td>\n",
       "      <td>17</td>\n",
       "      <td>0</td>\n",
       "      <td>0</td>\n",
       "      <td>1</td>\n",
       "      <td>1</td>\n",
       "      <td>1</td>\n",
       "    </tr>\n",
       "  </tbody>\n",
       "</table>\n",
       "</div>"
      ],
      "text/plain": [
       "                         Project_ID                       Donation_ID  \\\n",
       "0  000009891526c0ade7180f8423792063  688729120858666221208529ee3fc18e   \n",
       "1  000009891526c0ade7180f8423792063  dcf1071da3aa3561f91ac689d1f73dee   \n",
       "2  000009891526c0ade7180f8423792063  18a234b9d1e538c431761d521ea7799d   \n",
       "3  000009891526c0ade7180f8423792063  38d2744bf9138b0b57ed581c76c0e2da   \n",
       "4  000009891526c0ade7180f8423792063  5a032791e31167a70206bfb86fb60035   \n",
       "\n",
       "                           Donor_ID Donation_Included_Optional_Donation  \\\n",
       "0  1f4b5b6e68445c6c4a0509b3aca93f38                                  No   \n",
       "1  4aaab6d244bf3599682239ed5591af8a                                 Yes   \n",
       "2  0b0765dc9c759adc48a07688ba25e94e                                 Yes   \n",
       "3  377944ad61f72d800b25ec1862aec363                                 Yes   \n",
       "4  6d5b22d39e68c656071a842732c63a0c                                 Yes   \n",
       "\n",
       "   Donation_Amount  Donor_Cart_Sequence Donation_Received_Date  year  month  \\\n",
       "0           178.37                   11             2016-08-23  2016      8   \n",
       "1            25.00                    2             2016-06-06  2016      6   \n",
       "2            20.00                    3             2016-06-06  2016      6   \n",
       "3            25.00                    1             2016-05-15  2016      5   \n",
       "4            25.00                    2             2016-05-17  2016      5   \n",
       "\n",
       "   day  hour  min  day_of_week  isWeekend  isMorning  \n",
       "0   23     0    0            1          1          1  \n",
       "1    6     0    0            0          1          1  \n",
       "2    6     0    0            0          1          1  \n",
       "3   15     0    0            6          0          1  \n",
       "4   17     0    0            1          1          1  "
      ]
     },
     "execution_count": 46,
     "metadata": {},
     "output_type": "execute_result"
    }
   ],
   "source": [
    "df_donation.head()"
   ]
  },
  {
   "cell_type": "code",
   "execution_count": 29,
   "metadata": {},
   "outputs": [],
   "source": [
    "result = pd.merge(df_donation, df_project, on=[\"Project_ID\"])"
   ]
  },
  {
   "cell_type": "code",
   "execution_count": 30,
   "metadata": {},
   "outputs": [],
   "source": [
    "result = pd.merge(result, df_donor, on=[\"Donor_ID\"])"
   ]
  },
  {
   "cell_type": "code",
   "execution_count": 35,
   "metadata": {},
   "outputs": [],
   "source": [
    "df_donation_sample = result[['Project_ID', 'Donation_ID', 'Donor_ID',\n",
    "       'Donation_Included_Optional_Donation', 'Donation_Amount',\n",
    "       'Donor_Cart_Sequence', 'Donation_Received_Date']]"
   ]
  },
  {
   "cell_type": "code",
   "execution_count": 36,
   "metadata": {},
   "outputs": [],
   "source": [
    "df_project_sample = result[['Project_ID', 'School_ID', 'Teacher_ID',\n",
    "       'Teacher_Project_Posted_Sequence', 'Project_Type', 'Project_Title',\n",
    "       'Project_Essay', 'Project_Short_Description', 'Project_Need_Statement',\n",
    "       'Project_Subject_Category_Tree', 'Project_Subject_Subcategory_Tree',\n",
    "       'Project_Grade_Level_Category', 'Project_Resource_Category',\n",
    "       'Project_Cost', 'Project_Posted_Date', 'Project_Expiration_Date',\n",
    "       'Project_Current_Status', 'Project_Fully_Funded_Date']]"
   ]
  },
  {
   "cell_type": "code",
   "execution_count": 37,
   "metadata": {},
   "outputs": [],
   "source": [
    "df_donor_sample = result[['Donor_ID', 'Donor_City', 'Donor_State', 'Donor_Is_Teacher',\n",
    "       'Donor_Zip']]"
   ]
  },
  {
   "cell_type": "code",
   "execution_count": 47,
   "metadata": {},
   "outputs": [],
   "source": [
    "df_donation_sample_copy = df_donation[:1000000]"
   ]
  },
  {
   "cell_type": "code",
   "execution_count": 51,
   "metadata": {},
   "outputs": [
    {
     "name": "stdout",
     "output_type": "stream",
     "text": [
      "df_donation (1000000, 15)\n",
      "df_donor (1000000, 5)\n",
      "df_project (710666, 15)\n"
     ]
    }
   ],
   "source": [
    "print(\"df_donation\",df_donation_sample_copy.shape)\n",
    "print(\"df_donor\",df_donor_sample_copy.shape)\n",
    "print(\"df_project\",df_project_sample_copy.shape)"
   ]
  },
  {
   "cell_type": "code",
   "execution_count": 58,
   "metadata": {},
   "outputs": [
    {
     "name": "stdout",
     "output_type": "stream",
     "text": [
      "df_donation (604626, 15)\n",
      "df_donor (334865, 5)\n",
      "df_project (184284, 15)\n"
     ]
    }
   ],
   "source": [
    "print(\"df_donation\",df_donation_sample_copy.shape)\n",
    "print(\"df_donor\",df_donor_sample_copy.shape)\n",
    "print(\"df_project\",df_project_sample_copy.shape)"
   ]
  },
  {
   "cell_type": "code",
   "execution_count": 52,
   "metadata": {},
   "outputs": [
    {
     "name": "stderr",
     "output_type": "stream",
     "text": [
      "/opt/anaconda3/lib/python3.7/site-packages/ipykernel_launcher.py:1: SettingWithCopyWarning: \n",
      "A value is trying to be set on a copy of a slice from a DataFrame\n",
      "\n",
      "See the caveats in the documentation: https://pandas.pydata.org/pandas-docs/stable/user_guide/indexing.html#returning-a-view-versus-a-copy\n",
      "  \"\"\"Entry point for launching an IPython kernel.\n"
     ]
    }
   ],
   "source": [
    "df_donation_sample_copy.drop_duplicates(inplace=True)"
   ]
  },
  {
   "cell_type": "code",
   "execution_count": 53,
   "metadata": {},
   "outputs": [
    {
     "name": "stderr",
     "output_type": "stream",
     "text": [
      "/opt/anaconda3/lib/python3.7/site-packages/ipykernel_launcher.py:1: SettingWithCopyWarning: \n",
      "A value is trying to be set on a copy of a slice from a DataFrame\n",
      "\n",
      "See the caveats in the documentation: https://pandas.pydata.org/pandas-docs/stable/user_guide/indexing.html#returning-a-view-versus-a-copy\n",
      "  \"\"\"Entry point for launching an IPython kernel.\n"
     ]
    }
   ],
   "source": [
    "df_donor_sample_copy.drop_duplicates(inplace=True)"
   ]
  },
  {
   "cell_type": "code",
   "execution_count": 123,
   "metadata": {},
   "outputs": [],
   "source": [
    "df_project.drop_duplicates(inplace=True)"
   ]
  },
  {
   "cell_type": "code",
   "execution_count": 56,
   "metadata": {},
   "outputs": [
    {
     "name": "stderr",
     "output_type": "stream",
     "text": [
      "/opt/anaconda3/lib/python3.7/site-packages/pandas/core/frame.py:3997: SettingWithCopyWarning: \n",
      "A value is trying to be set on a copy of a slice from a DataFrame\n",
      "\n",
      "See the caveats in the documentation: https://pandas.pydata.org/pandas-docs/stable/user_guide/indexing.html#returning-a-view-versus-a-copy\n",
      "  errors=errors,\n"
     ]
    }
   ],
   "source": [
    "deleteNotIn(df_project_sample_copy,df_donation_sample_copy,'Project_ID')"
   ]
  },
  {
   "cell_type": "code",
   "execution_count": 57,
   "metadata": {},
   "outputs": [],
   "source": [
    "deleteNotIn(df_donor_sample_copy,df_donation_sample_copy,'Donor_ID')"
   ]
  },
  {
   "cell_type": "code",
   "execution_count": 126,
   "metadata": {},
   "outputs": [],
   "source": [
    "df_project = df_project[['Project_ID', 'School_ID', 'Teacher_ID',\n",
    "       'Teacher_Project_Posted_Sequence', 'Project_Type', 'Project_Title',\n",
    "       'Project_Subject_Category_Tree', 'Project_Subject_Subcategory_Tree',\n",
    "       'Project_Grade_Level_Category', 'Project_Resource_Category',\n",
    "       'Project_Cost', 'Project_Posted_Date', 'Project_Expiration_Date',\n",
    "       'Project_Current_Status', 'Project_Fully_Funded_Date']]"
   ]
  },
  {
   "cell_type": "code",
   "execution_count": 132,
   "metadata": {},
   "outputs": [],
   "source": [
    "df_donation_sample_copy.to_csv(pathDBMS+fileName_donation+'A.csv',index=False) "
   ]
  },
  {
   "cell_type": "code",
   "execution_count": 133,
   "metadata": {},
   "outputs": [],
   "source": [
    "df_donor_sample_copy.to_csv(pathDBMS+fileName_donor+'A.csv',index=False) "
   ]
  },
  {
   "cell_type": "code",
   "execution_count": 134,
   "metadata": {},
   "outputs": [],
   "source": [
    "df_project_sample_copy.to_csv(pathDBMS+fileName_project+'A.csv',index=False) "
   ]
  }
 ],
 "metadata": {
  "kernelspec": {
   "display_name": "Python 3",
   "language": "python",
   "name": "python3"
  },
  "language_info": {
   "codemirror_mode": {
    "name": "ipython",
    "version": 3
   },
   "file_extension": ".py",
   "mimetype": "text/x-python",
   "name": "python",
   "nbconvert_exporter": "python",
   "pygments_lexer": "ipython3",
   "version": "3.7.4"
  }
 },
 "nbformat": 4,
 "nbformat_minor": 4
}
